{
 "cells": [
  {
   "cell_type": "code",
   "execution_count": 1,
   "metadata": {},
   "outputs": [
    {
     "name": "stdout",
     "output_type": "stream",
     "text": [
      "Populating the interactive namespace from numpy and matplotlib\n"
     ]
    },
    {
     "name": "stderr",
     "output_type": "stream",
     "text": [
      "C:\\Users\\pyiph\\anaconda3\\envs\\chicago_work\\lib\\site-packages\\tqdm\\auto.py:22: TqdmWarning: IProgress not found. Please update jupyter and ipywidgets. See https://ipywidgets.readthedocs.io/en/stable/user_install.html\n",
      "  from .autonotebook import tqdm as notebook_tqdm\n"
     ]
    },
    {
     "ename": "ImportError",
     "evalue": "cannot import name 'load' from 'data' (C:\\Users\\pyiph\\anaconda3\\envs\\chicago_work\\lib\\site-packages\\data\\__init__.py)",
     "output_type": "error",
     "traceback": [
      "\u001b[1;31m---------------------------------------------------------------------------\u001b[0m",
      "\u001b[1;31mImportError\u001b[0m                               Traceback (most recent call last)",
      "\u001b[1;32m~\\AppData\\Local\\Temp/ipykernel_21876/2138042012.py\u001b[0m in \u001b[0;36m<module>\u001b[1;34m\u001b[0m\n\u001b[0;32m      4\u001b[0m \u001b[0msys\u001b[0m\u001b[1;33m.\u001b[0m\u001b[0mpath\u001b[0m\u001b[1;33m.\u001b[0m\u001b[0mappend\u001b[0m\u001b[1;33m(\u001b[0m\u001b[1;34m'..'\u001b[0m\u001b[1;33m)\u001b[0m\u001b[1;33m\u001b[0m\u001b[1;33m\u001b[0m\u001b[0m\n\u001b[0;32m      5\u001b[0m \u001b[0msys\u001b[0m\u001b[1;33m.\u001b[0m\u001b[0mpath\u001b[0m\u001b[1;33m.\u001b[0m\u001b[0mappend\u001b[0m\u001b[1;33m(\u001b[0m\u001b[1;34m'../..'\u001b[0m\u001b[1;33m)\u001b[0m\u001b[1;33m\u001b[0m\u001b[1;33m\u001b[0m\u001b[0m\n\u001b[1;32m----> 6\u001b[1;33m \u001b[1;32mfrom\u001b[0m \u001b[0mdata\u001b[0m \u001b[1;32mimport\u001b[0m \u001b[0mload\u001b[0m\u001b[1;33m\u001b[0m\u001b[1;33m\u001b[0m\u001b[0m\n\u001b[0m\u001b[0;32m      7\u001b[0m \u001b[0mdevice\u001b[0m \u001b[1;33m=\u001b[0m \u001b[0mtorch\u001b[0m\u001b[1;33m.\u001b[0m\u001b[0mdevice\u001b[0m\u001b[1;33m(\u001b[0m\u001b[1;34m'cuda'\u001b[0m\u001b[1;33m)\u001b[0m \u001b[1;32mif\u001b[0m \u001b[0mtorch\u001b[0m\u001b[1;33m.\u001b[0m\u001b[0mcuda\u001b[0m\u001b[1;33m.\u001b[0m\u001b[0mis_available\u001b[0m\u001b[1;33m(\u001b[0m\u001b[1;33m)\u001b[0m \u001b[1;32melse\u001b[0m \u001b[0mtorch\u001b[0m\u001b[1;33m.\u001b[0m\u001b[0mdevice\u001b[0m\u001b[1;33m(\u001b[0m\u001b[1;34m'cpu'\u001b[0m\u001b[1;33m)\u001b[0m\u001b[1;33m\u001b[0m\u001b[1;33m\u001b[0m\u001b[0m\n\u001b[0;32m      8\u001b[0m \u001b[0mprint\u001b[0m\u001b[1;33m(\u001b[0m\u001b[1;34m'device = '\u001b[0m\u001b[1;33m,\u001b[0m \u001b[0mdevice\u001b[0m\u001b[1;33m)\u001b[0m\u001b[1;33m\u001b[0m\u001b[1;33m\u001b[0m\u001b[0m\n",
      "\u001b[1;31mImportError\u001b[0m: cannot import name 'load' from 'data' (C:\\Users\\pyiph\\anaconda3\\envs\\chicago_work\\lib\\site-packages\\data\\__init__.py)"
     ]
    }
   ],
   "source": [
    "%pylab inline\n",
    "import torch\n",
    "import sys\n",
    "sys.path.append('..')\n",
    "sys.path.append('../..')\n",
    "from data import load\n",
    "device = torch.device('cuda') if torch.cuda.is_available() else torch.device('cpu')\n",
    "print('device = ', device)"
   ]
  },
  {
   "cell_type": "code",
   "execution_count": 2,
   "metadata": {},
   "outputs": [
    {
     "name": "stdout",
     "output_type": "stream",
     "text": [
      "True\n",
      "False\n"
     ]
    }
   ],
   "source": [
    "class ConvNet(torch.nn.Module):\n",
    "    class Block(torch.nn.Module):\n",
    "        def __init__(self, n_input, n_output, stride=1):\n",
    "            super().__init__()\n",
    "            self.net = torch.nn.Sequential(\n",
    "              torch.nn.Conv2d(n_input, n_output, kernel_size=3, padding=1, stride=stride, bias=False),\n",
    "              torch.nn.BatchNorm2d(n_output),\n",
    "              torch.nn.ReLU(),\n",
    "              torch.nn.Conv2d(n_output, n_output, kernel_size=3, padding=1, bias=False),\n",
    "              torch.nn.BatchNorm2d(n_output),\n",
    "              torch.nn.ReLU()\n",
    "            )\n",
    "            self.downsample = None\n",
    "            if stride != 1 or n_input != n_output:\n",
    "                self.downsample = torch.nn.Sequential(torch.nn.Conv2d(n_input, n_output, 1),\n",
    "                                                      torch.nn.BatchNorm2d(n_output))\n",
    "        \n",
    "        def forward(self, x):\n",
    "            identity = x\n",
    "            if self.downsample is not None:\n",
    "                identity = self.downsample(x)\n",
    "            return self.net(x) + identity\n",
    "        \n",
    "    def __init__(self, layers=[32,64,128], n_input_channels=3):\n",
    "        super().__init__()\n",
    "        L = [torch.nn.Conv2d(n_input_channels, 32, kernel_size=7, padding=3, stride=2, bias=False),\n",
    "             torch.nn.BatchNorm2d(32),\n",
    "             torch.nn.ReLU(),\n",
    "             torch.nn.MaxPool2d(kernel_size=3, stride=2, padding=1)\n",
    "            ]\n",
    "        c = 32\n",
    "        for l in layers:\n",
    "            L.append(self.Block(c, l, stride=2))\n",
    "            c = l\n",
    "        self.network = torch.nn.Sequential(*L)\n",
    "        self.classifier = torch.nn.Linear(c, 1)\n",
    "    \n",
    "    def forward(self, x):\n",
    "        # Compute the features\n",
    "        z = self.network(x)\n",
    "        # Global average pooling\n",
    "        z = z.mean(dim=[2,3])\n",
    "        # Classify\n",
    "        return self.classifier(z)[:,0]\n",
    "    \n",
    "net = ConvNet()\n",
    "net.train()\n",
    "print( net.training )\n",
    "net.eval()\n",
    "print( net.training )"
   ]
  },
  {
   "cell_type": "code",
   "execution_count": null,
   "metadata": {},
   "outputs": [],
   "source": []
  }
 ],
 "metadata": {
  "kernelspec": {
   "display_name": "Python 3 (ipykernel)",
   "language": "python",
   "name": "python3"
  },
  "language_info": {
   "codemirror_mode": {
    "name": "ipython",
    "version": 3
   },
   "file_extension": ".py",
   "mimetype": "text/x-python",
   "name": "python",
   "nbconvert_exporter": "python",
   "pygments_lexer": "ipython3",
   "version": "3.8.12"
  }
 },
 "nbformat": 4,
 "nbformat_minor": 2
}
